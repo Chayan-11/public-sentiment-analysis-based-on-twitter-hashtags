{
  "cells": [
    {
      "cell_type": "markdown",
      "id": "8a7439a8",
      "metadata": {
        "id": "8a7439a8"
      },
      "source": [
        "### Part 1"
      ]
    },
    {
      "cell_type": "markdown",
      "id": "f1787e32",
      "metadata": {
        "id": "f1787e32"
      },
      "source": [
        "# Imports"
      ]
    },
    {
      "cell_type": "code",
      "source": [
        "from google.colab import drive\n",
        "drive.mount('/content/drive')"
      ],
      "metadata": {
        "colab": {
          "base_uri": "https://localhost:8080/"
        },
        "id": "5KBc_JJkLbb5",
        "outputId": "ac87c0a0-1d43-4cad-8fd8-1c554a332a12"
      },
      "id": "5KBc_JJkLbb5",
      "execution_count": 1,
      "outputs": [
        {
          "output_type": "stream",
          "name": "stdout",
          "text": [
            "Drive already mounted at /content/drive; to attempt to forcibly remount, call drive.mount(\"/content/drive\", force_remount=True).\n"
          ]
        }
      ]
    },
    {
      "cell_type": "code",
      "execution_count": 2,
      "id": "4e33b1d1",
      "metadata": {
        "collapsed": true,
        "colab": {
          "base_uri": "https://localhost:8080/"
        },
        "id": "4e33b1d1",
        "outputId": "f3b94136-1a9a-4d2f-dc89-b75a2c7a6972"
      },
      "outputs": [
        {
          "output_type": "stream",
          "name": "stdout",
          "text": [
            "[nltk_data] Downloading package stopwords to /root/nltk_data...\n",
            "[nltk_data]   Package stopwords is already up-to-date!\n",
            "[nltk_data] Downloading package punkt to /root/nltk_data...\n",
            "[nltk_data]   Package punkt is already up-to-date!\n",
            "[nltk_data] Downloading package wordnet to /root/nltk_data...\n",
            "[nltk_data]   Package wordnet is already up-to-date!\n",
            "[nltk_data] Downloading package averaged_perceptron_tagger to\n",
            "[nltk_data]     /root/nltk_data...\n",
            "[nltk_data]   Package averaged_perceptron_tagger is already up-to-\n",
            "[nltk_data]       date!\n",
            "[nltk_data] Downloading package vader_lexicon to /root/nltk_data...\n",
            "[nltk_data]   Package vader_lexicon is already up-to-date!\n",
            "[nltk_data] Downloading package sentiwordnet to /root/nltk_data...\n",
            "[nltk_data]   Package sentiwordnet is already up-to-date!\n"
          ]
        },
        {
          "output_type": "execute_result",
          "data": {
            "text/plain": [
              "True"
            ]
          },
          "metadata": {},
          "execution_count": 2
        }
      ],
      "source": [
        "import os\n",
        "import pandas as pd\n",
        "import numpy as np\n",
        "import re\n",
        "import patoolib\n",
        "import csv\n",
        "import string\n",
        "import fasttext\n",
        "from io import StringIO\n",
        "import sklearn.model_selection\n",
        "from textblob import TextBlob\n",
        "import nltk\n",
        "from nltk.tokenize import word_tokenize\n",
        "from nltk.corpus import sentiwordnet as swn\n",
        "from nltk import pos_tag\n",
        "from nltk.corpus import stopwords, wordnet\n",
        "from nltk.stem import WordNetLemmatizer\n",
        "from vaderSentiment.vaderSentiment import SentimentIntensityAnalyzer\n",
        "nltk.download('stopwords')\n",
        "nltk.download('punkt')\n",
        "nltk.download('wordnet')\n",
        "nltk.download('averaged_perceptron_tagger')\n",
        "nltk.download('vader_lexicon')\n",
        "nltk.download('sentiwordnet')"
      ]
    },
    {
      "cell_type": "markdown",
      "id": "2345f183",
      "metadata": {
        "id": "2345f183"
      },
      "source": [
        "# Handling the dataset"
      ]
    },
    {
      "cell_type": "code",
      "execution_count": 46,
      "id": "d60710df",
      "metadata": {
        "id": "d60710df"
      },
      "outputs": [],
      "source": [
        "df = pd.read_csv(\"/content/drive/MyDrive/datasetV3.csv\")\n",
        "df = df.astype(str)"
      ]
    },
    {
      "cell_type": "code",
      "execution_count": 4,
      "metadata": {
        "id": "cd57a50e"
      },
      "outputs": [],
      "source": [
        "def clean(text):\n",
        "    try:\n",
        "        text = re.sub('[^A-Za-z]+', ' ', text)\n",
        "        return text\n",
        "    except:\n",
        "        return \"\""
      ],
      "id": "cd57a50e"
    },
    {
      "cell_type": "code",
      "execution_count": 5,
      "metadata": {
        "id": "8ed465fa"
      },
      "outputs": [],
      "source": [
        "pos_dict = {'J':wordnet.ADJ, 'V':wordnet.VERB, 'N':wordnet.NOUN, 'R':wordnet.ADV}\n",
        "def token_stop_pos(text):\n",
        "    tags = pos_tag(word_tokenize(text))\n",
        "    newlist = []\n",
        "    for word, tag in tags:\n",
        "        if word.lower() not in set(stopwords.words('english')):\n",
        "            newlist.append(tuple([word, pos_dict.get(tag[0])]))\n",
        "    return newlist"
      ],
      "id": "8ed465fa"
    },
    {
      "cell_type": "code",
      "execution_count": 6,
      "metadata": {
        "id": "faf54740"
      },
      "outputs": [],
      "source": [
        "wordnet_lemmatizer = WordNetLemmatizer()\n",
        "def lemmatize(pos_data):\n",
        "    lemma_rew = \" \"\n",
        "    for word, pos in pos_data:\n",
        "        if not pos:\n",
        "            lemma = word\n",
        "            lemma_rew = lemma_rew + \" \" + lemma\n",
        "        else:\n",
        "            lemma = wordnet_lemmatizer.lemmatize(word, pos=pos)\n",
        "            lemma_rew = lemma_rew + \" \" + lemma\n",
        "    return lemma_rew"
      ],
      "id": "faf54740"
    },
    {
      "cell_type": "code",
      "execution_count": 7,
      "metadata": {
        "id": "8f2508da"
      },
      "outputs": [],
      "source": [
        "for i in range(10):\n",
        "    df['Cleaned_tweet' + str(i)] = [clean(x) for x in df['tweet' + str(i)].values];\n",
        "    df['POS_tagged_tweet' + str(i)] = [token_stop_pos(x) for x in df['Cleaned_tweet' + str(i)].values];"
      ],
      "id": "8f2508da"
    },
    {
      "cell_type": "code",
      "execution_count": 8,
      "metadata": {
        "id": "4bf8d04a"
      },
      "outputs": [],
      "source": [
        "for i in range(10):\n",
        "    df['Lemma_tweet' + str(i)] = [lemmatize(x) for x in df['POS_tagged_tweet' + str(i)].values];"
      ],
      "id": "4bf8d04a"
    },
    {
      "cell_type": "markdown",
      "source": [
        "### Dataset for Fasttext training"
      ],
      "metadata": {
        "id": "DJ_qLi_JjFSt"
      },
      "id": "DJ_qLi_JjFSt"
    },
    {
      "cell_type": "code",
      "source": [
        "df_data=pd.read_csv(r'/content/drive/MyDrive/data16.csv', encoding= 'latin1', header=None, usecols=[0,5])\n",
        "df_data.columns = [\"sentiment\", \"tweet\"]"
      ],
      "metadata": {
        "id": "e5q4DVlyiJt3"
      },
      "id": "e5q4DVlyiJt3",
      "execution_count": 9,
      "outputs": []
    },
    {
      "cell_type": "code",
      "execution_count": 10,
      "metadata": {
        "id": "b5870d25"
      },
      "outputs": [],
      "source": [
        "tweets = np.array(df_data[\"tweet\"]);\n",
        "tweets = [' '.join(re.sub(\"(@[A-Za-z0-9]+)|([^0-9A-Za-z \\t])|(\\w+:\\/\\/\\S+)\",\" \",tweet).split()) for tweet in tweets]\n",
        "df_data[\"tweet\"] = tweets\n",
        "df_data[\"sentiment\"] = df_data[\"sentiment\"].replace(4,1)\n",
        "df_data = df_data.sample(frac = 1)\n",
        "df_data = df_data.astype(str)"
      ],
      "id": "b5870d25"
    },
    {
      "cell_type": "code",
      "execution_count": 11,
      "metadata": {
        "id": "25d142ee"
      },
      "outputs": [],
      "source": [
        "df_data[\"sentiment\"] = df_data[\"sentiment\"].replace(' ', '_', regex=True)\n",
        "df_data[\"sentiment\"]=['__label__'+s.replace(' or ', '$').replace(', or ','$').replace(',','$').replace(' ','_').replace(',','__label__').replace('$$','$').replace('$',' __label__').replace('___','__') for s in df_data[\"sentiment\"]]\n",
        "\n",
        "df_data[\"tweet\"]= df_data[\"tweet\"].replace('\\n',' ', regex=True).replace('\\t',' ', regex=True)\n",
        "df_data.to_csv(r'df_text.txt', index=False, sep=' ', header=False, quoting=csv.QUOTE_NONE, quotechar=\"\", escapechar=\" \")\n",
        "\n",
        "train_df,test_df = sklearn.model_selection.train_test_split(df_data, stratify=df_data[\"sentiment\"], test_size=0.2)\n",
        "train_df.to_csv(r'df_train.txt', index=False, sep=' ', header=False, quoting=csv.QUOTE_NONE, quotechar=\"\", escapechar=\" \")\n",
        "test_df.to_csv(r'df_valid.txt', index=False, sep=' ', header=False, quoting=csv.QUOTE_NONE, quotechar=\"\", escapechar=\" \")"
      ],
      "id": "25d142ee"
    },
    {
      "cell_type": "markdown",
      "id": "3d76e698",
      "metadata": {
        "id": "3d76e698"
      },
      "source": [
        "# Building functions "
      ]
    },
    {
      "cell_type": "markdown",
      "id": "9eecabf0",
      "metadata": {
        "id": "9eecabf0"
      },
      "source": [
        "### Using TextBlob"
      ]
    },
    {
      "cell_type": "code",
      "execution_count": 14,
      "metadata": {
        "id": "41a49c51"
      },
      "outputs": [],
      "source": [
        "def getPolarity(tweet):\n",
        "    return TextBlob(tweet).sentiment.polarity"
      ],
      "id": "41a49c51"
    },
    {
      "cell_type": "code",
      "execution_count": 15,
      "id": "899e7a75",
      "metadata": {
        "id": "899e7a75"
      },
      "outputs": [],
      "source": [
        "for i in range(10):\n",
        "    df['TextBlob_Polarity' + str(i)] = [getPolarity(x) for x in df['Lemma_tweet' + str(i)]]"
      ]
    },
    {
      "cell_type": "code",
      "execution_count": 16,
      "id": "818d671e",
      "metadata": {
        "id": "818d671e"
      },
      "outputs": [],
      "source": [
        "df['Average_TextBlob_Polarity'] = df.iloc[:,-10:].mean(axis=1)"
      ]
    },
    {
      "cell_type": "markdown",
      "id": "1dce1748",
      "metadata": {
        "id": "1dce1748"
      },
      "source": [
        "### Using VADER"
      ]
    },
    {
      "cell_type": "code",
      "execution_count": 17,
      "metadata": {
        "id": "9c1ff52b"
      },
      "outputs": [],
      "source": [
        "analyzer = SentimentIntensityAnalyzer()\n",
        "def Vader_scores(tweet):\n",
        "    try:\n",
        "        return analyzer.polarity_scores(tweet)\n",
        "    except:\n",
        "        return {'pos':0, 'neg':0, 'neu':0, 'compound':0}"
      ],
      "id": "9c1ff52b"
    },
    {
      "cell_type": "code",
      "execution_count": 18,
      "id": "adb2e459",
      "metadata": {
        "id": "adb2e459"
      },
      "outputs": [],
      "source": [
        "for i in range(10):\n",
        "    scores = [Vader_scores(x) for x in df['tweet' + str(i)]]\n",
        "    df['Vader_neg' + str(i)] = [x['neg'] for x in scores]\n",
        "    df['Vader_neu' + str(i)] = [x['neu'] for x in scores]\n",
        "    df['Vader_pos' + str(i)] = [x['pos'] for x in scores]\n",
        "    df['Vader_compound' + str(i)] = [x['compound'] for x in scores]"
      ]
    },
    {
      "cell_type": "code",
      "execution_count": 19,
      "id": "c68fd132",
      "metadata": {
        "id": "c68fd132"
      },
      "outputs": [],
      "source": [
        "df['Average_Vader_neg'] = df[(list(df.filter(regex='Vader_neg')))].mean(axis=1)\n",
        "df['Average_Vader_neu'] = df[(list(df.filter(regex='Vader_neu')))].mean(axis=1)\n",
        "df['Average_Vader_pos'] = df[(list(df.filter(regex='Vader_pos')))].mean(axis=1)\n",
        "df['Average_Vader_compound'] = df[(list(df.filter(regex='Vader_compound')))].mean(axis=1)"
      ]
    },
    {
      "cell_type": "markdown",
      "source": [
        "### Using Fasttext"
      ],
      "metadata": {
        "id": "PrQNQewDjxwb"
      },
      "id": "PrQNQewDjxwb"
    },
    {
      "cell_type": "code",
      "execution_count": 20,
      "metadata": {
        "colab": {
          "base_uri": "https://localhost:8080/"
        },
        "id": "e0d9af72",
        "outputId": "f7ee8d51-80bf-4997-ab67-c12e012cb17e"
      },
      "outputs": [
        {
          "output_type": "stream",
          "name": "stdout",
          "text": [
            "Cloning into 'fastText'...\n",
            "remote: Enumerating objects: 3854, done.\u001b[K\n",
            "remote: Total 3854 (delta 0), reused 0 (delta 0), pack-reused 3854\u001b[K\n",
            "Receiving objects: 100% (3854/3854), 8.22 MiB | 9.53 MiB/s, done.\n",
            "Resolving deltas: 100% (2417/2417), done.\n",
            "/content/fastText\n",
            "c++ -pthread -std=c++11 -march=native -O3 -funroll-loops -DNDEBUG -c src/args.cc\n",
            "c++ -pthread -std=c++11 -march=native -O3 -funroll-loops -DNDEBUG -c src/autotune.cc\n",
            "c++ -pthread -std=c++11 -march=native -O3 -funroll-loops -DNDEBUG -c src/matrix.cc\n",
            "c++ -pthread -std=c++11 -march=native -O3 -funroll-loops -DNDEBUG -c src/dictionary.cc\n",
            "c++ -pthread -std=c++11 -march=native -O3 -funroll-loops -DNDEBUG -c src/loss.cc\n",
            "c++ -pthread -std=c++11 -march=native -O3 -funroll-loops -DNDEBUG -c src/productquantizer.cc\n",
            "c++ -pthread -std=c++11 -march=native -O3 -funroll-loops -DNDEBUG -c src/densematrix.cc\n",
            "c++ -pthread -std=c++11 -march=native -O3 -funroll-loops -DNDEBUG -c src/quantmatrix.cc\n",
            "c++ -pthread -std=c++11 -march=native -O3 -funroll-loops -DNDEBUG -c src/vector.cc\n",
            "c++ -pthread -std=c++11 -march=native -O3 -funroll-loops -DNDEBUG -c src/model.cc\n",
            "c++ -pthread -std=c++11 -march=native -O3 -funroll-loops -DNDEBUG -c src/utils.cc\n",
            "c++ -pthread -std=c++11 -march=native -O3 -funroll-loops -DNDEBUG -c src/meter.cc\n",
            "c++ -pthread -std=c++11 -march=native -O3 -funroll-loops -DNDEBUG -c src/fasttext.cc\n",
            "c++ -pthread -std=c++11 -march=native -O3 -funroll-loops -DNDEBUG args.o autotune.o matrix.o dictionary.o loss.o productquantizer.o densematrix.o quantmatrix.o vector.o model.o utils.o meter.o fasttext.o src/main.cc -o fasttext\n",
            "/content\n"
          ]
        }
      ],
      "source": [
        "!git clone https://github.com/facebookresearch/fastText.git\n",
        "%cd fastText\n",
        "!make\n",
        "!cp fasttext ../\n",
        "%cd .."
      ],
      "id": "e0d9af72"
    },
    {
      "cell_type": "code",
      "execution_count": 21,
      "metadata": {
        "id": "9539f1d8"
      },
      "outputs": [],
      "source": [
        "# Put 80% in df_text and 20% in df_valid\n",
        "!head -n 1280000 df_text.txt > df_train.txt\n",
        "!tail -n 320000 df_text.txt > df_valid.txt"
      ],
      "id": "9539f1d8"
    },
    {
      "cell_type": "code",
      "execution_count": 22,
      "metadata": {
        "colab": {
          "base_uri": "https://localhost:8080/"
        },
        "id": "48e5c166",
        "outputId": "235ac54f-2f16-4136-9e3a-75efba734cb9"
      },
      "outputs": [
        {
          "output_type": "stream",
          "name": "stdout",
          "text": [
            "Progress: 100.0% Trials:    3 Best score:  0.807912 ETA:   0h 0m 0s\n",
            "Training again with best arguments\n",
            "Read 19M words\n",
            "Number of words:  332928\n",
            "Number of labels: 2\n",
            "Progress: 100.0% words/sec/thread:   45040 lr:  0.000000 avg.loss:  0.458896 ETA:   0h 0m 0s\n"
          ]
        }
      ],
      "source": [
        "!./fasttext supervised -input ./df_train.txt -output sent_model -autotune-validation ./df_valid.txt"
      ],
      "id": "48e5c166"
    },
    {
      "cell_type": "code",
      "execution_count": 23,
      "metadata": {
        "colab": {
          "base_uri": "https://localhost:8080/"
        },
        "id": "d899c249",
        "outputId": "15c5924e-0340-4985-9c67-eaa64dd1ed5e"
      },
      "outputs": [
        {
          "output_type": "stream",
          "name": "stderr",
          "text": [
            "Warning : `load_model` does not return WordVectorModel or SupervisedModel any more, but a `FastText` object which is very similar.\n"
          ]
        }
      ],
      "source": [
        "model = fasttext.load_model(\"sent_model.bin\")"
      ],
      "id": "d899c249"
    },
    {
      "cell_type": "code",
      "execution_count": 24,
      "metadata": {
        "id": "20d75b2e"
      },
      "outputs": [],
      "source": [
        "def print_results(model, input_path, k):\n",
        "    num_records, precision_at_k, recall_at_k = model.test(input_path, k)\n",
        "    f1_at_k = 2 * (precision_at_k * recall_at_k) / (precision_at_k + recall_at_k)\n",
        "\n",
        "    print(\"records\\t{}\".format(num_records))\n",
        "    print(\"Precision@{}\\t{:.3f}\".format(k, precision_at_k))\n",
        "    print(\"Recall@{}\\t{:.3f}\".format(k, recall_at_k))\n",
        "    print(\"F1@{}\\t{:.3f}\".format(k, f1_at_k))\n",
        "    print()"
      ],
      "id": "20d75b2e"
    },
    {
      "cell_type": "code",
      "execution_count": 25,
      "metadata": {
        "colab": {
          "base_uri": "https://localhost:8080/"
        },
        "id": "9fbc0057",
        "outputId": "b745237e-7402-4453-cdcc-8a4d71b5f059"
      },
      "outputs": [
        {
          "output_type": "stream",
          "name": "stdout",
          "text": [
            "train metrics:\n",
            "records\t1280000\n",
            "Precision@1\t0.821\n",
            "Recall@1\t0.821\n",
            "F1@1\t0.821\n",
            "\n",
            "test metrics:\n",
            "records\t320000\n",
            "Precision@1\t0.808\n",
            "Recall@1\t0.808\n",
            "F1@1\t0.808\n",
            "\n"
          ]
        }
      ],
      "source": [
        "print('train metrics:')\n",
        "print_results(model, 'df_train.txt', 1)\n",
        "\n",
        "print('test metrics:')\n",
        "print_results(model,'df_valid.txt', 1)"
      ],
      "id": "9fbc0057"
    },
    {
      "cell_type": "code",
      "source": [
        "for i in range(10):\n",
        "    values1 = [model.predict(x,2) for x in df['tweet' + str(i)].values];\n",
        "    x = [list(value) for value in values1]\n",
        "    for index,ele in enumerate(x):\n",
        "        ele[0] = list(ele[0])\n",
        "        if ele[0][0][-1] == '1':\n",
        "            ele[0][0],ele[0][1] = ele[0][1],ele[0][0]\n",
        "            ele[1][0],ele[1][1] = ele[1][1],ele[1][0]\n",
        "    df['tweet' + str(i) + '_fasttext_positive_prob'] = [y[1][1] for y in x]\n",
        "    df['tweet' + str(i) + '_fasttext_negative_prob'] = [y[1][0] for y in x]"
      ],
      "metadata": {
        "id": "g_C7NQ7CX1nf"
      },
      "id": "g_C7NQ7CX1nf",
      "execution_count": 39,
      "outputs": []
    },
    {
      "cell_type": "code",
      "execution_count": 40,
      "metadata": {
        "id": "8b353937"
      },
      "outputs": [],
      "source": [
        "df['Average_fasttext_positive_prob'] = df[(list(df.filter(regex='fasttext_positive_prob')))].mean(axis=1)\n",
        "df['Average_fasttext_negative_prob'] = df[(list(df.filter(regex='fasttext_negative_prob')))].mean(axis=1)"
      ],
      "id": "8b353937"
    },
    {
      "cell_type": "markdown",
      "source": [
        "####Final Dataset"
      ],
      "metadata": {
        "id": "mMnZJlzEkQdj"
      },
      "id": "mMnZJlzEkQdj"
    },
    {
      "cell_type": "code",
      "execution_count": 41,
      "id": "7e425d79",
      "metadata": {
        "colab": {
          "base_uri": "https://localhost:8080/",
          "height": 443
        },
        "id": "7e425d79",
        "outputId": "349b9f56-2fc4-4b31-beba-5cd995bbaa39"
      },
      "outputs": [
        {
          "output_type": "execute_result",
          "data": {
            "text/html": [
              "<div>\n",
              "<style scoped>\n",
              "    .dataframe tbody tr th:only-of-type {\n",
              "        vertical-align: middle;\n",
              "    }\n",
              "\n",
              "    .dataframe tbody tr th {\n",
              "        vertical-align: top;\n",
              "    }\n",
              "\n",
              "    .dataframe thead th {\n",
              "        text-align: right;\n",
              "    }\n",
              "</style>\n",
              "<table border=\"1\" class=\"dataframe\">\n",
              "  <thead>\n",
              "    <tr style=\"text-align: right;\">\n",
              "      <th></th>\n",
              "      <th>Data</th>\n",
              "      <th>Date</th>\n",
              "      <th>Time</th>\n",
              "      <th>Average_TextBlob_Polarity</th>\n",
              "      <th>Average_Vader_neg</th>\n",
              "      <th>Average_Vader_neu</th>\n",
              "      <th>Average_Vader_pos</th>\n",
              "      <th>Average_Vader_compound</th>\n",
              "      <th>Average_fasttext_positive_prob</th>\n",
              "      <th>Average_fasttext_negative_prob</th>\n",
              "    </tr>\n",
              "  </thead>\n",
              "  <tbody>\n",
              "    <tr>\n",
              "      <th>0</th>\n",
              "      <td>tuesdayvibes</td>\n",
              "      <td>7/14/2020</td>\n",
              "      <td>7:00:21</td>\n",
              "      <td>0.17185606060606062</td>\n",
              "      <td>0.0229</td>\n",
              "      <td>0.845</td>\n",
              "      <td>0.1321</td>\n",
              "      <td>0.09399999999999997</td>\n",
              "      <td>0.692833</td>\n",
              "      <td>0.307187</td>\n",
              "    </tr>\n",
              "    <tr>\n",
              "      <th>1</th>\n",
              "      <td>realmeC11</td>\n",
              "      <td>7/14/2020</td>\n",
              "      <td>7:00:21</td>\n",
              "      <td>0.2112207792207792</td>\n",
              "      <td>0.0184</td>\n",
              "      <td>0.9191</td>\n",
              "      <td>0.0625</td>\n",
              "      <td>0.15109</td>\n",
              "      <td>0.452111</td>\n",
              "      <td>0.547909</td>\n",
              "    </tr>\n",
              "    <tr>\n",
              "      <th>2</th>\n",
              "      <td>KPSharmaOli</td>\n",
              "      <td>7/14/2020</td>\n",
              "      <td>7:00:21</td>\n",
              "      <td>-0.09125</td>\n",
              "      <td>0.0933</td>\n",
              "      <td>0.807</td>\n",
              "      <td>0.0997</td>\n",
              "      <td>-0.019379999999999998</td>\n",
              "      <td>0.626276</td>\n",
              "      <td>0.373744</td>\n",
              "    </tr>\n",
              "    <tr>\n",
              "      <th>3</th>\n",
              "      <td>RheaChakraborty</td>\n",
              "      <td>7/14/2020</td>\n",
              "      <td>7:00:21</td>\n",
              "      <td>0.05</td>\n",
              "      <td>0.10470000000000002</td>\n",
              "      <td>0.7367999999999999</td>\n",
              "      <td>0.1587</td>\n",
              "      <td>0.18638</td>\n",
              "      <td>0.657306</td>\n",
              "      <td>0.342714</td>\n",
              "    </tr>\n",
              "    <tr>\n",
              "      <th>4</th>\n",
              "      <td>Stop_Transfer_Sunita_Yadav</td>\n",
              "      <td>7/14/2020</td>\n",
              "      <td>7:00:21</td>\n",
              "      <td>0.14095238095238094</td>\n",
              "      <td>0.17720000000000002</td>\n",
              "      <td>0.6803</td>\n",
              "      <td>0.14240000000000003</td>\n",
              "      <td>0.04833999999999998</td>\n",
              "      <td>0.743845</td>\n",
              "      <td>0.256175</td>\n",
              "    </tr>\n",
              "    <tr>\n",
              "      <th>...</th>\n",
              "      <td>...</td>\n",
              "      <td>...</td>\n",
              "      <td>...</td>\n",
              "      <td>...</td>\n",
              "      <td>...</td>\n",
              "      <td>...</td>\n",
              "      <td>...</td>\n",
              "      <td>...</td>\n",
              "      <td>...</td>\n",
              "      <td>...</td>\n",
              "    </tr>\n",
              "    <tr>\n",
              "      <th>35261</th>\n",
              "      <td>SwaraBhasker</td>\n",
              "      <td>9/14/2020</td>\n",
              "      <td>13:00:01</td>\n",
              "      <td>0.028244047619047606</td>\n",
              "      <td>0.0891</td>\n",
              "      <td>0.8227</td>\n",
              "      <td>0.08830000000000002</td>\n",
              "      <td>0.04122000000000002</td>\n",
              "      <td>0.489275</td>\n",
              "      <td>0.510745</td>\n",
              "    </tr>\n",
              "    <tr>\n",
              "      <th>35262</th>\n",
              "      <td>TukdeTukdeGang</td>\n",
              "      <td>9/14/2020</td>\n",
              "      <td>13:00:01</td>\n",
              "      <td>0.0070879120879120735</td>\n",
              "      <td>0.10640000000000001</td>\n",
              "      <td>0.7659</td>\n",
              "      <td>0.1276</td>\n",
              "      <td>0.02968000000000002</td>\n",
              "      <td>0.485959</td>\n",
              "      <td>0.514062</td>\n",
              "    </tr>\n",
              "    <tr>\n",
              "      <th>35263</th>\n",
              "      <td>IndooKiJawani</td>\n",
              "      <td>9/14/2020</td>\n",
              "      <td>13:00:01</td>\n",
              "      <td>0.16666666666666666</td>\n",
              "      <td>0.0474</td>\n",
              "      <td>0.834</td>\n",
              "      <td>0.1186</td>\n",
              "      <td>0.21012</td>\n",
              "      <td>0.773318</td>\n",
              "      <td>0.226702</td>\n",
              "    </tr>\n",
              "    <tr>\n",
              "      <th>35264</th>\n",
              "      <td>DelhiRiots2020</td>\n",
              "      <td>9/14/2020</td>\n",
              "      <td>13:00:01</td>\n",
              "      <td>0.23535714285714288</td>\n",
              "      <td>0.06709999999999999</td>\n",
              "      <td>0.8759</td>\n",
              "      <td>0.05689999999999999</td>\n",
              "      <td>0.04644999999999999</td>\n",
              "      <td>0.560710</td>\n",
              "      <td>0.439310</td>\n",
              "    </tr>\n",
              "    <tr>\n",
              "      <th>35265</th>\n",
              "      <td>SevaSaptah</td>\n",
              "      <td>9/14/2020</td>\n",
              "      <td>13:00:01</td>\n",
              "      <td>0.05833333333333333</td>\n",
              "      <td>0.0144</td>\n",
              "      <td>0.8844000000000001</td>\n",
              "      <td>0.1012</td>\n",
              "      <td>0.36258</td>\n",
              "      <td>0.744355</td>\n",
              "      <td>0.255665</td>\n",
              "    </tr>\n",
              "  </tbody>\n",
              "</table>\n",
              "<p>35266 rows × 10 columns</p>\n",
              "</div>"
            ],
            "text/plain": [
              "                              Data  ... Average_fasttext_negative_prob\n",
              "0                     tuesdayvibes  ...                       0.307187\n",
              "1                        realmeC11  ...                       0.547909\n",
              "2                      KPSharmaOli  ...                       0.373744\n",
              "3                  RheaChakraborty  ...                       0.342714\n",
              "4       Stop_Transfer_Sunita_Yadav  ...                       0.256175\n",
              "...                            ...  ...                            ...\n",
              "35261                 SwaraBhasker  ...                       0.510745\n",
              "35262               TukdeTukdeGang  ...                       0.514062\n",
              "35263                IndooKiJawani  ...                       0.226702\n",
              "35264               DelhiRiots2020  ...                       0.439310\n",
              "35265                   SevaSaptah  ...                       0.255665\n",
              "\n",
              "[35266 rows x 10 columns]"
            ]
          },
          "metadata": {},
          "execution_count": 41
        }
      ],
      "source": [
        "df_final = df.loc[:,list(df.filter(regex='Average'))]\n",
        "df_final = pd.concat([df.loc[:,[\"Data\",\"Date\",\"Time\"]],df_final],axis=1)\n",
        "df_final"
      ]
    },
    {
      "cell_type": "code",
      "execution_count": 45,
      "id": "434b6ee7",
      "metadata": {
        "id": "434b6ee7"
      },
      "outputs": [],
      "source": [
        "df_final.to_excel('database_final.xlsx')"
      ]
    },
    {
      "cell_type": "markdown",
      "id": "5b0ceb7c",
      "metadata": {
        "id": "5b0ceb7c"
      },
      "source": [
        "### Part 2"
      ]
    },
    {
      "cell_type": "markdown",
      "id": "8501e0c6",
      "metadata": {
        "id": "8501e0c6"
      },
      "source": [
        "# Plots"
      ]
    },
    {
      "cell_type": "code",
      "execution_count": null,
      "id": "331e4e49",
      "metadata": {
        "id": "331e4e49"
      },
      "outputs": [],
      "source": [
        "#code"
      ]
    },
    {
      "cell_type": "markdown",
      "id": "a2027570",
      "metadata": {
        "id": "a2027570"
      },
      "source": [
        "# Conclution "
      ]
    },
    {
      "cell_type": "code",
      "execution_count": null,
      "id": "d75c7551",
      "metadata": {
        "id": "d75c7551"
      },
      "outputs": [],
      "source": [
        "#conclude with your observasions "
      ]
    }
  ],
  "metadata": {
    "kernelspec": {
      "display_name": "Python 3",
      "language": "python",
      "name": "python3"
    },
    "language_info": {
      "codemirror_mode": {
        "name": "ipython",
        "version": 3
      },
      "file_extension": ".py",
      "mimetype": "text/x-python",
      "name": "python",
      "nbconvert_exporter": "python",
      "pygments_lexer": "ipython3",
      "version": "3.8.8"
    },
    "colab": {
      "name": "Preyam_Rao latest.ipynb",
      "provenance": [],
      "collapsed_sections": [
        "f1787e32",
        "2345f183",
        "DJ_qLi_JjFSt",
        "3d76e698",
        "9eecabf0",
        "1dce1748",
        "PrQNQewDjxwb"
      ]
    }
  },
  "nbformat": 4,
  "nbformat_minor": 5
}